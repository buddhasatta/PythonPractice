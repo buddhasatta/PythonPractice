{
  "nbformat": 4,
  "nbformat_minor": 0,
  "metadata": {
    "colab": {
      "provenance": [],
      "authorship_tag": "ABX9TyMYrSpxlhjAgRtVa1zTRVrs",
      "include_colab_link": true
    },
    "kernelspec": {
      "name": "python3",
      "display_name": "Python 3"
    },
    "language_info": {
      "name": "python"
    }
  },
  "cells": [
    {
      "cell_type": "markdown",
      "metadata": {
        "id": "view-in-github",
        "colab_type": "text"
      },
      "source": [
        "<a href=\"https://colab.research.google.com/github/buddhasatta/PythonPractice/blob/main/Tuples.ipynb\" target=\"_parent\"><img src=\"https://colab.research.google.com/assets/colab-badge.svg\" alt=\"Open In Colab\"/></a>"
      ]
    },
    {
      "cell_type": "code",
      "execution_count": 9,
      "metadata": {
        "id": "vm_ZHYN_0ov_",
        "colab": {
          "base_uri": "https://localhost:8080/"
        },
        "outputId": "c1edbae2-815f-425d-9c04-55723f1dfeaf"
      },
      "outputs": [
        {
          "output_type": "stream",
          "name": "stdout",
          "text": [
            "the size of the tuple1 is 72bytes\n"
          ]
        }
      ],
      "source": [
        "#programme to print a size of tuple using sizeof function from sys module\n",
        "\n",
        "tuple1=(\"buddha\",1,2,\"satta\")\n",
        "tuple2=(\"name\",\"alpha20\",11,10)\n",
        "import sys as s\n",
        "print(\"the size of the tuple1 is \"+str(s.getsizeof(tuple1))+\"bytes\")"
      ]
    },
    {
      "cell_type": "code",
      "source": [
        "#inbuild sizeof method\n",
        "print(\"the size of tuple 1 is \"+str(tuple1.__sizeof__())+\" bytes\")\n",
        "print(\"the size of tuple 1 is \"+str(tuple2.__sizeof__())+\" bytes\")\n",
        "\n"
      ],
      "metadata": {
        "colab": {
          "base_uri": "https://localhost:8080/"
        },
        "id": "51_IEuX-0BpN",
        "outputId": "012439d6-dbc1-4799-f140-9b837b286b4f"
      },
      "execution_count": 15,
      "outputs": [
        {
          "output_type": "stream",
          "name": "stdout",
          "text": [
            "the size of tuple 1 is 56 bytes\n",
            "the size of tuple 1 is 56 bytes\n"
          ]
        }
      ]
    },
    {
      "cell_type": "code",
      "source": [],
      "metadata": {
        "id": "C091PIK10yZ5"
      },
      "execution_count": null,
      "outputs": []
    }
  ]
}